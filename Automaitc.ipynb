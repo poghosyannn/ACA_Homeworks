{
 "cells": [
  {
   "cell_type": "code",
   "execution_count": null,
   "id": "cc2e9c40",
   "metadata": {},
   "outputs": [],
   "source": [
    "from sklearn.datasets import make_regression\n",
    "from sklearn.linear_model import LinearRegression\n",
    "from sklearn.model_selection import train_test_split\n",
    "from sklearn.metrics import mean_squared_error\n",
    "from sklearn.preprocessing import StandardScaler\n",
    "import numpy as np\n",
    "\n",
    "# Generate synthetic dataset\n",
    "X, y = make_regression(n_samples=60, n_features=10, noise=0.5, random_state=42)\n",
    "\n",
    "# Split the data into training and testing sets\n",
    "X_train, X_test, y_train, y_test = train_test_split(X, y, test_size=0.2, random_state=42)\n",
    "y_train = y_train.reshape(-1,1)\n",
    "y_test = y_test.reshape(-1,1)\n",
    "\n",
    "# Standardize the input features\n",
    "scaler = StandardScaler()\n",
    "X_train_scaled = scaler.fit_transform(X_train)\n",
    "X_test_scaled = scaler.transform(X_test)"
   ]
  },
  {
   "cell_type": "code",
   "execution_count": null,
   "id": "4ff52874",
   "metadata": {},
   "outputs": [],
   "source": [
    "import tensorflow as tf\n",
    "\n",
    "class Layer:\n",
    "    def __init__(self, size, input_layer=False, activation = None):\n",
    "        self.size = size\n",
    "        self.input_layer = input_layer\n",
    "        self.activation = activation\n",
    "        \n",
    "    def _activationFunction(self, X):\n",
    "        if self.activation == 'relu':\n",
    "            return tf.nn.relu(X)\n",
    "        elif self.activation == 'sigmoid':\n",
    "            return tf.nn.sigmoid(X)\n",
    "        elif self.activation == 'softmax':\n",
    "            return tf.nn.softmax(X)\n",
    "        elif self.activation == 'tanh':\n",
    "            return tf.nn.tanh(X)\n",
    "        else:\n",
    "            return X        \n",
    "      \n",
    "    def _construction(self, previous):\n",
    "        if self.input_layer:\n",
    "            return\n",
    "        \n",
    "        self.w=tf.Variable(tf.random.normal(shape = (previous, self.size), mean = 0, stddev = 2 / (previous + self.size)))\n",
    "        self.b = tf.Variable(tf.random.normal(shape = (1, self.size), mean = 0, stddev = 2 / (previous + self.size)))\n",
    "        return self.w, self.b\n",
    "        \n",
    "    def _feed_forward(self, X):\n",
    "        if self.input_layer:\n",
    "            return\n",
    "        \n",
    "        self.output = self._activationFunction(X @ self.w + self.b)\n",
    "        return self.output\n",
    "    \n",
    "    def _update_w(self, grad, lr):\n",
    "        self.w.assign_sub(grad * lr)\n",
    "        \n",
    "    def _update_b(self, grad, lr):\n",
    "        self.b.assign_sub(grad * lr)"
   ]
  },
  {
   "cell_type": "code",
   "execution_count": null,
   "id": "4b349f2b",
   "metadata": {},
   "outputs": [],
   "source": [
    "nn = Dense_Network([Layer(10, input_layer=True), Layer(4), Layer(3), Layer(1)])\n",
    "nn.fit(X_train_scaled, y_train)"
   ]
  },
  {
   "cell_type": "code",
   "execution_count": null,
   "id": "5d14f4d9",
   "metadata": {},
   "outputs": [],
   "source": [
    "print(\"Mean Squared Error (DenseNetwork implemented from scratch):\", mean_squared_error(y_test, y_pred))"
   ]
  }
 ],
 "metadata": {
  "kernelspec": {
   "display_name": "Python 3 (ipykernel)",
   "language": "python",
   "name": "python3"
  },
  "language_info": {
   "codemirror_mode": {
    "name": "ipython",
    "version": 3
   },
   "file_extension": ".py",
   "mimetype": "text/x-python",
   "name": "python",
   "nbconvert_exporter": "python",
   "pygments_lexer": "ipython3",
   "version": "3.8.0"
  }
 },
 "nbformat": 4,
 "nbformat_minor": 5
}
